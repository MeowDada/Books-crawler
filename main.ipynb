{
 "cells": [
  {
   "cell_type": "code",
   "execution_count": 1,
   "metadata": {},
   "outputs": [],
   "source": [
    "import module\n",
    "import requests\n",
    "from bs4 import BeautifulSoup"
   ]
  },
  {
   "cell_type": "code",
   "execution_count": 2,
   "metadata": {},
   "outputs": [],
   "source": [
    "HOME_URL = \"https://www.books.com.tw/web/books_nbtopm_01/?o=5&v=1\"\n",
    "books_catalog_class = \"mod_b type02_l001-1 clearfix\""
   ]
  },
  {
   "cell_type": "code",
   "execution_count": 3,
   "metadata": {},
   "outputs": [],
   "source": [
    "homeurl = HOME_URL\n",
    "html = requests.get(homeurl).text\n",
    "soup = BeautifulSoup(html, \"html.parser\")\n",
    "res = soup.find(\"div\", {\"class\":books_catalog_class})\n",
    "hrefs = res.select(\"a\")"
   ]
  },
  {
   "cell_type": "code",
   "execution_count": 4,
   "metadata": {},
   "outputs": [
    {
     "data": {
      "text/plain": [
       "[<a href=\"https://www.books.com.tw/web/books_nbtopm_01/?loc=P_0003_001\">文學小說</a>,\n",
       " <a href=\"https://www.books.com.tw/web/books_nbtopm_02/?loc=P_0003_002\">商業理財</a>,\n",
       " <a href=\"https://www.books.com.tw/web/books_nbtopm_03/?loc=P_0003_003\">藝術設計</a>,\n",
       " <a href=\"https://www.books.com.tw/web/books_nbtopm_04/?loc=P_0003_004\">人文史地</a>,\n",
       " <a href=\"https://www.books.com.tw/web/books_nbtopm_05/?loc=P_0003_005\">社會科學</a>,\n",
       " <a href=\"https://www.books.com.tw/web/books_nbtopm_06/?loc=P_0003_006\">自然科普</a>,\n",
       " <a href=\"https://www.books.com.tw/web/books_nbtopm_07/?loc=P_0003_007\">心理勵志</a>,\n",
       " <a href=\"https://www.books.com.tw/web/books_nbtopm_08/?loc=P_0003_008\">醫療保健</a>,\n",
       " <a href=\"https://www.books.com.tw/web/books_nbtopm_09/?loc=P_0003_009\">飲食</a>,\n",
       " <a href=\"https://www.books.com.tw/web/books_nbtopm_10/?loc=P_0003_010\">生活風格</a>,\n",
       " <a href=\"https://www.books.com.tw/web/books_nbtopm_11/?loc=P_0003_011\">旅遊</a>,\n",
       " <a href=\"https://www.books.com.tw/web/books_nbtopm_12/?loc=P_0003_012\">宗教命理</a>,\n",
       " <a href=\"https://www.books.com.tw/web/books_nbtopm_13/?loc=P_0003_013\">親子教養</a>,\n",
       " <a href=\"https://www.books.com.tw/web/books_nbtopm_14/?loc=P_0003_014\">童書/青少年文學</a>,\n",
       " <a href=\"https://www.books.com.tw/web/books_nbtopm_15/?loc=P_0003_015\">輕小說</a>,\n",
       " <a href=\"https://www.books.com.tw/web/books_nbtopm_16/?loc=P_0003_016\">漫畫</a>,\n",
       " <a href=\"https://www.books.com.tw/web/books_nbtopm_17/?loc=P_0003_017\">語言學習</a>,\n",
       " <a href=\"https://www.books.com.tw/web/books_nbtopm_18/?loc=P_0003_018\">考試用書</a>,\n",
       " <a href=\"https://www.books.com.tw/web/books_nbtopm_19/?loc=P_0003_019\">電腦資訊</a>,\n",
       " <a href=\"https://www.books.com.tw/web/books_nbtopm_20/?loc=P_0003_020\">專業/教科書/政府出版品</a>]"
      ]
     },
     "execution_count": 4,
     "metadata": {},
     "output_type": "execute_result"
    }
   ],
   "source": [
    "hrefs"
   ]
  },
  {
   "cell_type": "code",
   "execution_count": 5,
   "metadata": {},
   "outputs": [
    {
     "data": {
      "text/plain": [
       "'文學小說'"
      ]
     },
     "execution_count": 5,
     "metadata": {},
     "output_type": "execute_result"
    }
   ],
   "source": [
    "hrefs[0].text"
   ]
  },
  {
   "cell_type": "code",
   "execution_count": 6,
   "metadata": {
    "scrolled": true
   },
   "outputs": [
    {
     "name": "stdout",
     "output_type": "stream",
     "text": [
      "catalogs: 1\n",
      " Total:  7  pages\n",
      " The 1  page http://www.books.com.tw/web/books_nbtopm_01?o=5&v=1&page=1\n",
      " The 2  page http://www.books.com.tw/web/books_nbtopm_01?o=5&v=1&page=2\n",
      " The 3  page http://www.books.com.tw/web/books_nbtopm_01?o=5&v=1&page=3\n",
      " The 4  page http://www.books.com.tw/web/books_nbtopm_01?o=5&v=1&page=4\n",
      " The 5  page http://www.books.com.tw/web/books_nbtopm_01?o=5&v=1&page=5\n",
      " The 6  page http://www.books.com.tw/web/books_nbtopm_01?o=5&v=1&page=6\n",
      " The 7  page http://www.books.com.tw/web/books_nbtopm_01?o=5&v=1&page=7\n",
      "catalogs: 2\n",
      " Total:  3  pages\n",
      " The 1  page http://www.books.com.tw/web/books_nbtopm_02?o=5&v=1&page=1\n",
      " The 2  page http://www.books.com.tw/web/books_nbtopm_02?o=5&v=1&page=2\n",
      " The 3  page http://www.books.com.tw/web/books_nbtopm_02?o=5&v=1&page=3\n",
      "catalogs: 3\n",
      " Total:  2  pages\n",
      " The 1  page http://www.books.com.tw/web/books_nbtopm_03?o=5&v=1&page=1\n",
      " The 2  page http://www.books.com.tw/web/books_nbtopm_03?o=5&v=1&page=2\n",
      "catalogs: 4\n",
      " Total:  3  pages\n",
      " The 1  page http://www.books.com.tw/web/books_nbtopm_04?o=5&v=1&page=1\n",
      " The 2  page http://www.books.com.tw/web/books_nbtopm_04?o=5&v=1&page=2\n",
      " The 3  page http://www.books.com.tw/web/books_nbtopm_04?o=5&v=1&page=3\n",
      "catalogs: 5\n",
      " Total:  2  pages\n",
      " The 1  page http://www.books.com.tw/web/books_nbtopm_05?o=5&v=1&page=1\n",
      " The 2  page http://www.books.com.tw/web/books_nbtopm_05?o=5&v=1&page=2\n",
      "catalogs: 6\n"
     ]
    }
   ],
   "source": [
    "catalogs = 1\n",
    "mode = \"?o=5&v=1\"\n",
    "url = \"http://www.books.com.tw/web/books_nbtopm_\"\n",
    "dumps = []\n",
    "try:\n",
    "    for href in hrefs:\n",
    "        print(\"catalogs: \" + str(catalogs))\n",
    "        kindurl = url + \"{:02d}\".format(catalogs) + mode\n",
    "        kind = href.text\n",
    "        dumps += module.fetch_books_info(kindurl, kind, dump_files=True, show_info=False)\n",
    "        catalogs += 1\n",
    "\n",
    "    module.save_dumps(\"books_all\", dumps)\n",
    "except:\n",
    "    module.save_dumps(\"books_all\", dumps)"
   ]
  },
  {
   "cell_type": "code",
   "execution_count": null,
   "metadata": {},
   "outputs": [],
   "source": []
  }
 ],
 "metadata": {
  "kernelspec": {
   "display_name": "Python 3",
   "language": "python",
   "name": "python3"
  },
  "language_info": {
   "codemirror_mode": {
    "name": "ipython",
    "version": 3
   },
   "file_extension": ".py",
   "mimetype": "text/x-python",
   "name": "python",
   "nbconvert_exporter": "python",
   "pygments_lexer": "ipython3",
   "version": "3.7.1"
  }
 },
 "nbformat": 4,
 "nbformat_minor": 2
}
